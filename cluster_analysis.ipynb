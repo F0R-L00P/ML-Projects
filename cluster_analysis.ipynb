{
 "cells": [
  {
   "cell_type": "code",
   "execution_count": 2,
   "metadata": {},
   "outputs": [
    {
     "name": "stdout",
     "output_type": "stream",
     "text": [
      "179\n",
      "370\n"
     ]
    }
   ],
   "source": [
    "# main libraries\n",
    "import numpy as np\n",
    "import pandas as pd\n",
    "from scipy import stats\n",
    "from collections import Counter\n",
    "from operator import itemgetter\n",
    "import heapq\n",
    "\n",
    "# NLP\n",
    "import re\n",
    "import nltk\n",
    "from nltk.corpus import stopwords\n",
    "from nltk.tokenize import word_tokenize\n",
    "from nltk.stem import WordNetLemmatizer\n",
    "\n",
    "# NLTK Stop words\n",
    "#nltk.download('stopwords')\n",
    "#nltk.download('wordnet')\n",
    "#nltk.download('punkt')\n",
    "from nltk.corpus import stopwords\n",
    "stop_words = stopwords.words('english')\n",
    "print(len(stop_words))\n",
    "stop_words.extend(['from', 'subject', 're', 'edu', 'use', 'ibm', 'need', 'end', \n",
    "                   'time', 'i', 'me', 'my', 'myself', 'we', 'our', \n",
    "                   'ours', 'ourselves', 'you', \"you're\", \"you've\",\n",
    "                   \"you'll\", \"you'd\", 'your', 'yours', 'yourself',\n",
    "                   'yourselves', 'he', 'him', 'his', 'himself', 'she',\n",
    "                   \"she's\", 'her', 'hers', 'herself', 'it', \"it's\", 'its',\n",
    "                   'itself', 'they', 'them', 'their', 'theirs', 'themselves',\n",
    "                   'what', 'which', 'who', 'whom', 'this', 'that', \"that'll\",\n",
    "                   'these', 'those', 'am', 'is', 'are', 'was', 'were', 'be',\n",
    "                   'been', 'being', 'have', 'has', 'had', 'having', 'do', 'does',\n",
    "                   'did', 'doing', 'a', 'an', 'the', 'and', 'but', 'if', 'or',\n",
    "                   'because', 'as', 'until', 'while', 'of', 'at', 'by', 'for',\n",
    "                   'with', 'about', 'against', 'between', 'into', 'through',\n",
    "                   'during', 'before', 'after', 'above', 'below', 'to', 'from',\n",
    "                   'up', 'down', 'in', 'out', 'on', 'off', 'over', 'under',\n",
    "                   'again', 'further','IBaMèo', 'then', 'once', 'here', 'there', 'when', \n",
    "                   'where', 'why', 'how', 'all', 'any', 'both', 'each', 'few',\n",
    "                   'more', 'most', 'other', 'some', 'such', 'no', 'nor', 'not','only', \n",
    "                   'own', 'same', 'so', 'than', 'too', 'very', 's', 't',\n",
    "                   'can', 'will', 'just', 'don', \"don't\", 'should', \"should've\",\n",
    "                   'now', 'd', 'll', 'm', 'o', 're', 've', 'y', 'ain', 'aren',\n",
    "                   \"aren't\", 'couldn', \"couldn't\", 'didn', \"didn't\", 'doesn',\n",
    "                   \"doesn't\", 'hadn', \"hadn't\", 'hasn', \"hasn't\", 'haven',\n",
    "                   \"haven't\", 'isn', \"isn't\", 'ma', 'mightn', \"mightn't\",\n",
    "                   'mustn', \"mustn't\", 'needn', \"needn't\", 'shan', \"shan't\",\n",
    "                   'shouldn', \"shouldn't\", 'wasn', \"wasn't\", 'weren', \"weren't\",\n",
    "                   'won', \"won't\", 'wouldn', \"wouldn't\", 'has', 'ha'])\n",
    "\n",
    "print(len(stop_words))\n",
    "\n",
    "# Plotting tools\n",
    "import matplotlib.pyplot as plt\n",
    "import seaborn as sns\n",
    "sns.set(color_codes=True)\n",
    "%matplotlib inline\n",
    "\n",
    "import warnings\n",
    "warnings.filterwarnings(\"ignore\",category=DeprecationWarning);\n",
    "warnings.simplefilter('ignore')\n",
    "\n",
    "# view line by line of code\n",
    "from IPython.core.interactiveshell import InteractiveShell\n",
    "InteractiveShell.ast_node_interactivity = \"all\""
   ]
  },
  {
   "cell_type": "code",
   "execution_count": 3,
   "metadata": {},
   "outputs": [
    {
     "name": "stdout",
     "output_type": "stream",
     "text": [
      "There are 138 observations and 7 features in this dataset. \n",
      "\n"
     ]
    }
   ],
   "source": [
    "# Import DataFrame\n",
    "df = pd.read_csv('RemediationData2020.csv', encoding='latin-1')\n",
    "# df.head(2)\n",
    "\n",
    "print(\"There are {} observations and {} features in this dataset. \\n\".format(df.shape[0],df.shape[1]))"
   ]
  },
  {
   "cell_type": "code",
   "execution_count": 4,
   "metadata": {},
   "outputs": [
    {
     "data": {
      "text/plain": [
       "Index(['finding'], dtype='object')"
      ]
     },
     "execution_count": 4,
     "metadata": {},
     "output_type": "execute_result"
    }
   ],
   "source": [
    "# changing column name for easy access\n",
    "df = df.rename(columns={'milestoneDescription':'finding'})\n",
    "df.drop(columns=['supplier','createDate', 'source', \n",
    "                 'milestoneId', 'businessImpact', 'remediation'], inplace=True)\n",
    "df.columns"
   ]
  },
  {
   "cell_type": "code",
   "execution_count": 5,
   "metadata": {},
   "outputs": [
    {
     "name": "stdout",
     "output_type": "stream",
     "text": [
      "dataframe dimension: 2 \n",
      "datafram shape: (138, 1) \n",
      "dataframe size: 138\n",
      "--------------------------\n",
      "--------------------------\n",
      "<class 'pandas.core.frame.DataFrame'>\n",
      "RangeIndex: 138 entries, 0 to 137\n",
      "Data columns (total 1 columns):\n",
      " #   Column   Non-Null Count  Dtype \n",
      "---  ------   --------------  ----- \n",
      " 0   finding  138 non-null    object\n",
      "dtypes: object(1)\n",
      "memory usage: 1.2+ KB\n",
      "--------------------------\n",
      "--------------------------\n",
      "finding    0\n",
      "dtype: int64\n"
     ]
    }
   ],
   "source": [
    "# Obtain Dataframe details and basic analysis\n",
    "\n",
    "print('dataframe dimension:', df.ndim, '\\ndatafram shape:', df.shape, '\\ndataframe size:', df.size)\n",
    "print('--------------------------')\n",
    "print('--------------------------')\n",
    "df.info()\n",
    "print('--------------------------')\n",
    "print('--------------------------')\n",
    "print(df.isnull().sum())"
   ]
  },
  {
   "cell_type": "code",
   "execution_count": 6,
   "metadata": {},
   "outputs": [],
   "source": [
    "#replacing null value rows with string\n",
    "#df['businessImpact'] = df['businessImpact'].fillna(0)\n",
    "#df['businessImpact'] = df['businessImpact'].replace(to_replace = 0, value='Not Categorized')\n",
    "\n",
    "#df['remediation'] = df['remediation'].fillna(0)\n",
    "#df['remediation'] = df['remediation'].replace(to_replace = 0, value='Not Categorized')\n",
    "\n",
    "#df.info()\n",
    "#df.isnull().sum()"
   ]
  },
  {
   "cell_type": "code",
   "execution_count": 7,
   "metadata": {},
   "outputs": [],
   "source": [
    "# =============================================================================\n",
    "# Clean data Functions\n",
    "# =============================================================================\n",
    "def clean_normalize(text, lemma = True):\n",
    "    text = re.sub(r'[^\\s]*\\.(com|org|net)\\S*', '', text)#removing all website urls\n",
    "    text = re.sub(\"(<.*?>)\",\"\",text)                    #remove html markup \n",
    "    text = re.sub(r'\\d+', '', text)                     #removing numbers\n",
    "    text = re.sub(r'\\W', ' ', text)                     #remove all special characters\n",
    "    text = re.sub(r'^\\w\\s', '', text)                   #removing punctuation and whitespace\n",
    "    text = re.sub(r'\\s+', ' ', text, flags=re.I)        #subing multiple spaces with one\n",
    "    text = re.sub(r'(.)\\1{2,}', '', text)               #removing repeated sequences more than 3\n",
    "    text = text.lower()                                 #case normalization\n",
    "    text = word_tokenize(text)                          #tokenize\n",
    "\n",
    "    if lemma:\n",
    "        # lemmatize word noun\n",
    "        lem_word1 = [WordNetLemmatizer().lemmatize(word, pos='n') for word in text]\n",
    "        #lemmatize word verb\n",
    "        lem_word2 = [WordNetLemmatizer().lemmatize(word, pos='v') for word in lem_word1]\n",
    "        #join words to form sentence\n",
    "        new_sent = [word for word in lem_word2 if word not in stop_words]\n",
    "            \n",
    "    return new_sent\n",
    "\n",
    "def least_common_values(array, to_find=None):\n",
    "    '''\n",
    "    Parameters\n",
    "    ----------\n",
    "    array :   Item count\n",
    "    to_find : number of counts, optional\n",
    "              DESCRIPTION. The default is None.\n",
    "\n",
    "    Returns\n",
    "    -------\n",
    "    Least number of items in the list\n",
    "    '''\n",
    "    counter = Counter(array)\n",
    "    if to_find is None:\n",
    "        return sorted(counter.items(), key=itemgetter(1), reverse=False)\n",
    "    return heapq.nsmallest(to_find, counter.items(), key=itemgetter(1))\n",
    "\n",
    "# Removing all stop wrods\n",
    "def remove_stop_words(column):\n",
    "    mylist = []\n",
    "    '''removing stop words from the list'''\n",
    "    for token in column:\n",
    "        if token not in stop_words:\n",
    "            mylist.append(token)           \n",
    "    return mylist\n",
    "\n",
    "# Tokenizing column for word count frequency\n",
    "def token_list(column):\n",
    "    '''\n",
    "    loop through the column\n",
    "    extract tokens, second loop\n",
    "    to extract stop words\n",
    "        \n",
    "    Parameter\n",
    "    ---------\n",
    "    df['column'] : specified column in data frame\n",
    "        \n",
    "    Return\n",
    "    ---------\n",
    "    list of tokens without stopwords\n",
    "    '''\n",
    "    all_tokens = []\n",
    "    column_tokens = []\n",
    "    for token in column: # Outer loop extending tokens to list\n",
    "        column_tokens.extend(token)  # get all tokens from list\n",
    "    for word in all_tokens:   # Nested loop efiltering stop words\n",
    "        if word not in stop_words: #flilter condition\n",
    "            column_tokens.append(word)\n",
    "\n",
    "    return column_tokens"
   ]
  },
  {
   "cell_type": "code",
   "execution_count": 8,
   "metadata": {
    "scrolled": false
   },
   "outputs": [
    {
     "name": "stdout",
     "output_type": "stream",
     "text": [
      "3    Security posture of hosting datacenters must b...\n",
      "4    Supplier has not deployed an Endpoint Detectio...\n",
      "5    Supplier has not deployed an Infrastructure Sc...\n",
      "6    Supplier has not deployed a Security Informati...\n",
      "7        Disaster Recovery Plan has not been completed\n",
      "Name: finding, dtype: object\n",
      "3    [security, posture, host, datacenters, must, s...\n",
      "4    [supplier, deploy, endpoint, detection, respon...\n",
      "5    [supplier, deploy, infrastructure, scan, secur...\n",
      "6    [supplier, deploy, security, information, even...\n",
      "7                 [disaster, recovery, plan, complete]\n",
      "Name: finding, dtype: object\n"
     ]
    }
   ],
   "source": [
    "# =============================================================================\n",
    "# Clean data\n",
    "# =============================================================================\n",
    "# unstructured text columns\n",
    "print(df['finding'][3:8])\n",
    "df['finding'] = df['finding'].apply(clean_normalize)\n",
    "print(df['finding'][3:8])"
   ]
  },
  {
   "cell_type": "code",
   "execution_count": 9,
   "metadata": {},
   "outputs": [
    {
     "data": {
      "text/html": [
       "<div>\n",
       "<style scoped>\n",
       "    .dataframe tbody tr th:only-of-type {\n",
       "        vertical-align: middle;\n",
       "    }\n",
       "\n",
       "    .dataframe tbody tr th {\n",
       "        vertical-align: top;\n",
       "    }\n",
       "\n",
       "    .dataframe thead th {\n",
       "        text-align: right;\n",
       "    }\n",
       "</style>\n",
       "<table border=\"1\" class=\"dataframe\">\n",
       "  <thead>\n",
       "    <tr style=\"text-align: right;\">\n",
       "      <th></th>\n",
       "      <th>count</th>\n",
       "      <th>unique</th>\n",
       "      <th>top</th>\n",
       "      <th>freq</th>\n",
       "    </tr>\n",
       "  </thead>\n",
       "  <tbody>\n",
       "    <tr>\n",
       "      <th>finding</th>\n",
       "      <td>138</td>\n",
       "      <td>117</td>\n",
       "      <td>[summary, action, security, test, supplier, co...</td>\n",
       "      <td>6</td>\n",
       "    </tr>\n",
       "  </tbody>\n",
       "</table>\n",
       "</div>"
      ],
      "text/plain": [
       "        count unique                                                top freq\n",
       "finding   138    117  [summary, action, security, test, supplier, co...    6"
      ]
     },
     "execution_count": 9,
     "metadata": {},
     "output_type": "execute_result"
    }
   ],
   "source": [
    "# describing 3 categorical values of np.object (count, frequency, highest occurance)\n",
    "df[['finding']]\\\n",
    "    .describe(include = np.object)\\\n",
    "    .transpose()"
   ]
  },
  {
   "cell_type": "markdown",
   "metadata": {},
   "source": [
    "#### Frequency Distribution\n",
    "1. Obtain single frequency count of all words in dataset\n",
    "2. Plot distribution"
   ]
  },
  {
   "cell_type": "code",
   "execution_count": 10,
   "metadata": {
    "scrolled": false
   },
   "outputs": [
    {
     "name": "stdout",
     "output_type": "stream",
     "text": [
      "['provide', 'current', 'previous', 'penetration', 'test', 'write', 'summary', 'test', 'result', 'call', 'test', 'date', 'test', 'methodology', 'summary', 'find', 'remediation', 'plan', 'critical', 'high', 'medium', 'risk', 'find', 'dsr', 'service', 'system', 'integrity', 'availability', 'control']\n"
     ]
    },
    {
     "data": {
      "text/plain": [
       "[('test', 60),\n",
       " ('supplier', 42),\n",
       " ('penetration', 28),\n",
       " ('security', 28),\n",
       " ('report', 26),\n",
       " ('soc', 24),\n",
       " ('provide', 20),\n",
       " ('assessment', 18),\n",
       " ('type', 17),\n",
       " ('process', 16)]"
      ]
     },
     "execution_count": 10,
     "metadata": {},
     "output_type": "execute_result"
    },
    {
     "data": {
      "text/plain": [
       "[('ibamèo', 1),\n",
       " ('previous', 1),\n",
       " ('call', 1),\n",
       " ('dsr', 1),\n",
       " ('ass', 1),\n",
       " ('manual', 1),\n",
       " ('ethical', 1),\n",
       " ('hack', 1),\n",
       " ('thereafter', 1),\n",
       " ('enlist', 1)]"
      ]
     },
     "execution_count": 10,
     "metadata": {},
     "output_type": "execute_result"
    }
   ],
   "source": [
    "# Tokenizing column for word count frequency\n",
    "findings_token = token_list(df['finding'])\n",
    "print(findings_token[1:30])\n",
    "\n",
    "# counting frequency of words with counter\n",
    "findings_token_counter = Counter(remove_stop_words(findings_token))\n",
    "findings_token_counter.most_common(10) #most common\n",
    "least_common_values(findings_token_counter, to_find = 10) #Least common"
   ]
  },
  {
   "cell_type": "code",
   "execution_count": 11,
   "metadata": {},
   "outputs": [
    {
     "data": {
      "image/png": "[encoded data removed]",
      "text/plain": [
       "<Figure size 864x576 with 1 Axes>"
      ]
     },
     "metadata": {
      "needs_background": "light"
     },
     "output_type": "display_data"
    }
   ],
   "source": [
    "# visualizing Frequency Distribution\n",
    "# most common\n",
    "findings_token_df1 = pd.DataFrame.from_records(findings_token_counter.most_common(30),\n",
    "                                        columns = ['token', 'count'])\n",
    "\n",
    "# bar view of tokens\n",
    "findings_token_df1.plot(kind = 'barh', x = 'token', figsize = (12, 8))\\\n",
    "                    .invert_yaxis()\n",
    "plt.show()"
   ]
  },
  {
   "cell_type": "markdown",
   "metadata": {},
   "source": [
    "#### Frequency DIstribution Bigrams\n",
    "1. Obtain Bigram count\n",
    "2. Plot count"
   ]
  },
  {
   "cell_type": "code",
   "execution_count": 12,
   "metadata": {
    "scrolled": true
   },
   "outputs": [],
   "source": [
    "#Create your bigrams\n",
    "bgs = nltk.bigrams(findings_token)\n",
    "\n",
    "#compute frequency distribution for all the bigrams in the text\n",
    "fdist = nltk.FreqDist(bgs)\n",
    "\n",
    "# manual view of the list\n",
    "# for k,v in fdist.items():\n",
    "#    print(k,v)"
   ]
  },
  {
   "cell_type": "markdown",
   "metadata": {},
   "source": [
    "Bigram Distribution can reveal greater insight of major themes in the data"
   ]
  },
  {
   "cell_type": "code",
   "execution_count": 13,
   "metadata": {},
   "outputs": [
    {
     "data": {
      "text/plain": [
       "[(('penetration', 'test'), 28),\n",
       " (('soc', 'type'), 17),\n",
       " (('test', 'supplier'), 10),\n",
       " (('secure', 'release'), 10),\n",
       " (('security', 'test'), 9),\n",
       " (('release', 'criterion'), 9),\n",
       " (('supplier', 'component'), 8),\n",
       " (('component', 'accordance'), 8),\n",
       " (('accordance', 'secure'), 8),\n",
       " (('criterion', 'src'), 8)]"
      ]
     },
     "execution_count": 13,
     "metadata": {},
     "output_type": "execute_result"
    },
    {
     "data": {
      "image/png": "[encoded data removed]",
      "text/plain": [
       "<Figure size 864x576 with 1 Axes>"
      ]
     },
     "metadata": {
      "needs_background": "light"
     },
     "output_type": "display_data"
    }
   ],
   "source": [
    "# counting frequency of words with counter\n",
    "fdist.most_common(10) #most common\n",
    "\n",
    "fdist_df1 = pd.DataFrame.from_records(fdist.most_common(30),\n",
    "                                        columns = ['token', 'count'])\n",
    "\n",
    "# bar view of tokens\n",
    "fdist_df1['token'] = fdist_df1['token'].apply(str)\n",
    "fdist_df1.plot(kind = 'barh', x = 'token', figsize = (12, 8))\\\n",
    "                    .invert_yaxis()\n",
    "plt.show()"
   ]
  },
  {
   "cell_type": "markdown",
   "metadata": {},
   "source": [
    "## Cluster Analysis using Document Embeddings\n",
    "Analysis steps:\n",
    "1. Embed documents using pre-trained glove model\n",
    "2. Apply kmeans cluster algorithm\n",
    "3. Analyze clusters to identify patterns within each cluster"
   ]
  },
  {
   "cell_type": "code",
   "execution_count": 14,
   "metadata": {},
   "outputs": [],
   "source": [
    "# import Flair library\n",
    "from flair.embeddings import WordEmbeddings, DocumentPoolEmbeddings\n",
    "from flair.data import Sentence\n",
    "import flair, torch\n",
    "\n",
    "# since this is small dataset, can process this with cpu\n",
    "flair.device = torch.device('cpu') \n",
    "\n",
    "# initialize the word embeddings\n",
    "glove_embedding = WordEmbeddings('glove')\n",
    "\n",
    "# initialize the document embeddings, mode = mean\n",
    "document_embeddings = DocumentPoolEmbeddings([glove_embedding]);"
   ]
  },
  {
   "cell_type": "code",
   "execution_count": 15,
   "metadata": {},
   "outputs": [],
   "source": [
    "# building function that for given column, it will iterate over each row and embed sentences\n",
    "def doc_embedding(target_feature):\n",
    "    sentence = Sentence(target_feature)\n",
    "    # embed the sentence with our document embedding\n",
    "    document_embeddings.embed(sentence)\n",
    "    return sentence.embedding\n",
    "\n",
    "# build new column and append to existing data frame\n",
    "df['embedding'] = df.finding.apply(doc_embedding)"
   ]
  },
  {
   "cell_type": "code",
   "execution_count": 16,
   "metadata": {},
   "outputs": [
    {
     "data": {
      "text/html": [
       "<div>\n",
       "<style scoped>\n",
       "    .dataframe tbody tr th:only-of-type {\n",
       "        vertical-align: middle;\n",
       "    }\n",
       "\n",
       "    .dataframe tbody tr th {\n",
       "        vertical-align: top;\n",
       "    }\n",
       "\n",
       "    .dataframe thead th {\n",
       "        text-align: right;\n",
       "    }\n",
       "</style>\n",
       "<table border=\"1\" class=\"dataframe\">\n",
       "  <thead>\n",
       "    <tr style=\"text-align: right;\">\n",
       "      <th></th>\n",
       "      <th>finding</th>\n",
       "      <th>embedding</th>\n",
       "    </tr>\n",
       "  </thead>\n",
       "  <tbody>\n",
       "    <tr>\n",
       "      <th>0</th>\n",
       "      <td>[ibamèo, provide, current, previous, penetrati...</td>\n",
       "      <td>[tensor(-0.2100), tensor(0.1161), tensor(0.232...</td>\n",
       "    </tr>\n",
       "    <tr>\n",
       "      <th>1</th>\n",
       "      <td>[code, doe, support, byok]</td>\n",
       "      <td>[tensor(0.0828), tensor(0.3998), tensor(0.1009...</td>\n",
       "    </tr>\n",
       "    <tr>\n",
       "      <th>2</th>\n",
       "      <td>[independent, third, party, penetration, test,...</td>\n",
       "      <td>[tensor(-0.2241), tensor(0.0924), tensor(0.353...</td>\n",
       "    </tr>\n",
       "    <tr>\n",
       "      <th>3</th>\n",
       "      <td>[security, posture, host, datacenters, must, s...</td>\n",
       "      <td>[tensor(-0.2854), tensor(0.1502), tensor(0.252...</td>\n",
       "    </tr>\n",
       "    <tr>\n",
       "      <th>4</th>\n",
       "      <td>[supplier, deploy, endpoint, detection, respon...</td>\n",
       "      <td>[tensor(-0.3075), tensor(0.1568), tensor(0.454...</td>\n",
       "    </tr>\n",
       "  </tbody>\n",
       "</table>\n",
       "</div>"
      ],
      "text/plain": [
       "                                             finding  \\\n",
       "0  [ibamèo, provide, current, previous, penetrati...   \n",
       "1                         [code, doe, support, byok]   \n",
       "2  [independent, third, party, penetration, test,...   \n",
       "3  [security, posture, host, datacenters, must, s...   \n",
       "4  [supplier, deploy, endpoint, detection, respon...   \n",
       "\n",
       "                                           embedding  \n",
       "0  [tensor(-0.2100), tensor(0.1161), tensor(0.232...  \n",
       "1  [tensor(0.0828), tensor(0.3998), tensor(0.1009...  \n",
       "2  [tensor(-0.2241), tensor(0.0924), tensor(0.353...  \n",
       "3  [tensor(-0.2854), tensor(0.1502), tensor(0.252...  \n",
       "4  [tensor(-0.3075), tensor(0.1568), tensor(0.454...  "
      ]
     },
     "execution_count": 16,
     "metadata": {},
     "output_type": "execute_result"
    }
   ],
   "source": [
    "# obtain random row and view embedding results\n",
    "df.head()"
   ]
  },
  {
   "cell_type": "code",
   "execution_count": 17,
   "metadata": {},
   "outputs": [],
   "source": [
    "# prepare dataset for cluster algorithm\n",
    "from sklearn.cluster import KMeans\n",
    "\n",
    "# conver tensor to array\n",
    "x = df['embedding'].apply(np.array)\n",
    "# np.stack removes nested arrays\n",
    "X = np.stack(x.to_numpy())"
   ]
  },
  {
   "cell_type": "markdown",
   "metadata": {},
   "source": [
    "#### Elbow Diagram\n",
    "This plot will assist in identifying the optimal number of clusters to be used during the analysis. To find the optimal clusters, choose the value with the greatest decline in its inertia. in this case 6 cluster seems to be the best value as there is a measurable drop in inertial, from 6 to 19 there is a linear relation and drops in inertial are at small increments."
   ]
  },
  {
   "cell_type": "code",
   "execution_count": 18,
   "metadata": {
    "scrolled": false
   },
   "outputs": [
    {
     "data": {
      "image/png": "[encoded data removed]",
      "text/plain": [
       "<Figure size 864x576 with 1 Axes>"
      ]
     },
     "metadata": {
      "needs_background": "light"
     },
     "output_type": "display_data"
    }
   ],
   "source": [
    "# obtain inertia value for optimal cluster number\n",
    "cluster_range = range(1, 20)\n",
    "inertia = []\n",
    "\n",
    "for i in cluster_range:\n",
    "    kmeans = KMeans(n_clusters = i, random_state = 0)\n",
    "    kmeans.fit(X)\n",
    "    inertia.append(kmeans.inertia_)\n",
    "\n",
    "plt.figure(figsize=(12, 8))\n",
    "plt.plot(cluster_range, inertia, '-o')\n",
    "plt.xlabel('number of cluster')\n",
    "plt.ylabel('inertia')\n",
    "plt.xticks(cluster_range)\n",
    "plt.show();"
   ]
  },
  {
   "cell_type": "code",
   "execution_count": 19,
   "metadata": {},
   "outputs": [],
   "source": [
    "# initiate K-Means Model and fit to dataset\n",
    "kmeans = KMeans(init='k-means++', n_clusters = 6, random_state = 0).fit(X)\n",
    "\n",
    "# Obtain labels and assign to column\n",
    "df['cluster_labels'] = kmeans.labels_"
   ]
  },
  {
   "cell_type": "code",
   "execution_count": 20,
   "metadata": {},
   "outputs": [
    {
     "data": {
      "text/html": [
       "<div>\n",
       "<style scoped>\n",
       "    .dataframe tbody tr th:only-of-type {\n",
       "        vertical-align: middle;\n",
       "    }\n",
       "\n",
       "    .dataframe tbody tr th {\n",
       "        vertical-align: top;\n",
       "    }\n",
       "\n",
       "    .dataframe thead th {\n",
       "        text-align: right;\n",
       "    }\n",
       "</style>\n",
       "<table border=\"1\" class=\"dataframe\">\n",
       "  <thead>\n",
       "    <tr style=\"text-align: right;\">\n",
       "      <th></th>\n",
       "      <th>finding</th>\n",
       "      <th>embedding</th>\n",
       "      <th>cluster_labels</th>\n",
       "    </tr>\n",
       "  </thead>\n",
       "  <tbody>\n",
       "    <tr>\n",
       "      <th>1</th>\n",
       "      <td>[code, doe, support, byok]</td>\n",
       "      <td>[tensor(0.0828), tensor(0.3998), tensor(0.1009...</td>\n",
       "      <td>4</td>\n",
       "    </tr>\n",
       "  </tbody>\n",
       "</table>\n",
       "</div>"
      ],
      "text/plain": [
       "                      finding  \\\n",
       "1  [code, doe, support, byok]   \n",
       "\n",
       "                                           embedding  cluster_labels  \n",
       "1  [tensor(0.0828), tensor(0.3998), tensor(0.1009...               4  "
      ]
     },
     "execution_count": 20,
     "metadata": {},
     "output_type": "execute_result"
    }
   ],
   "source": [
    "# obtain random row and view results\n",
    "df.iloc[1:2,:]"
   ]
  },
  {
   "cell_type": "code",
   "execution_count": 21,
   "metadata": {
    "scrolled": true
   },
   "outputs": [
    {
     "data": {
      "text/html": [
       "<div>\n",
       "<style scoped>\n",
       "    .dataframe tbody tr th:only-of-type {\n",
       "        vertical-align: middle;\n",
       "    }\n",
       "\n",
       "    .dataframe tbody tr th {\n",
       "        vertical-align: top;\n",
       "    }\n",
       "\n",
       "    .dataframe thead th {\n",
       "        text-align: right;\n",
       "    }\n",
       "</style>\n",
       "<table border=\"1\" class=\"dataframe\">\n",
       "  <thead>\n",
       "    <tr style=\"text-align: right;\">\n",
       "      <th></th>\n",
       "      <th>finding</th>\n",
       "      <th>embedding</th>\n",
       "    </tr>\n",
       "    <tr>\n",
       "      <th>cluster_labels</th>\n",
       "      <th></th>\n",
       "      <th></th>\n",
       "    </tr>\n",
       "  </thead>\n",
       "  <tbody>\n",
       "    <tr>\n",
       "      <th>0</th>\n",
       "      <td>5</td>\n",
       "      <td>5</td>\n",
       "    </tr>\n",
       "    <tr>\n",
       "      <th>1</th>\n",
       "      <td>14</td>\n",
       "      <td>14</td>\n",
       "    </tr>\n",
       "    <tr>\n",
       "      <th>2</th>\n",
       "      <td>26</td>\n",
       "      <td>26</td>\n",
       "    </tr>\n",
       "    <tr>\n",
       "      <th>3</th>\n",
       "      <td>7</td>\n",
       "      <td>7</td>\n",
       "    </tr>\n",
       "    <tr>\n",
       "      <th>4</th>\n",
       "      <td>70</td>\n",
       "      <td>70</td>\n",
       "    </tr>\n",
       "    <tr>\n",
       "      <th>5</th>\n",
       "      <td>16</td>\n",
       "      <td>16</td>\n",
       "    </tr>\n",
       "  </tbody>\n",
       "</table>\n",
       "</div>"
      ],
      "text/plain": [
       "                finding  embedding\n",
       "cluster_labels                    \n",
       "0                     5          5\n",
       "1                    14         14\n",
       "2                    26         26\n",
       "3                     7          7\n",
       "4                    70         70\n",
       "5                    16         16"
      ]
     },
     "execution_count": 21,
     "metadata": {},
     "output_type": "execute_result"
    }
   ],
   "source": [
    "# view group count of each label\n",
    "df.groupby(['cluster_labels']).count()"
   ]
  },
  {
   "cell_type": "code",
   "execution_count": 22,
   "metadata": {},
   "outputs": [
    {
     "data": {
      "text/html": [
       "<div>\n",
       "<style scoped>\n",
       "    .dataframe tbody tr th:only-of-type {\n",
       "        vertical-align: middle;\n",
       "    }\n",
       "\n",
       "    .dataframe tbody tr th {\n",
       "        vertical-align: top;\n",
       "    }\n",
       "\n",
       "    .dataframe thead th {\n",
       "        text-align: right;\n",
       "    }\n",
       "</style>\n",
       "<table border=\"1\" class=\"dataframe\">\n",
       "  <thead>\n",
       "    <tr style=\"text-align: right;\">\n",
       "      <th></th>\n",
       "      <th>finding</th>\n",
       "      <th>embedding</th>\n",
       "      <th>cluster_labels</th>\n",
       "    </tr>\n",
       "  </thead>\n",
       "  <tbody>\n",
       "    <tr>\n",
       "      <th>7</th>\n",
       "      <td>[disaster, recovery, plan, complete]</td>\n",
       "      <td>[tensor(-0.2242), tensor(0.4222), tensor(0.209...</td>\n",
       "      <td>1</td>\n",
       "    </tr>\n",
       "    <tr>\n",
       "      <th>17</th>\n",
       "      <td>[conduct, provide, annual, risk, assessment, r...</td>\n",
       "      <td>[tensor(-0.3199), tensor(0.0483), tensor(0.169...</td>\n",
       "      <td>1</td>\n",
       "    </tr>\n",
       "    <tr>\n",
       "      <th>33</th>\n",
       "      <td>[incident, response, policy, procedure, formal...</td>\n",
       "      <td>[tensor(-0.1303), tensor(-0.3109), tensor(0.05...</td>\n",
       "      <td>1</td>\n",
       "    </tr>\n",
       "    <tr>\n",
       "      <th>40</th>\n",
       "      <td>[lack, document, organizational, security, pol...</td>\n",
       "      <td>[tensor(-0.1566), tensor(-0.2919), tensor(0.29...</td>\n",
       "      <td>1</td>\n",
       "    </tr>\n",
       "    <tr>\n",
       "      <th>49</th>\n",
       "      <td>[sdlc, policy]</td>\n",
       "      <td>[tensor(0.1181), tensor(-0.1579), tensor(0.019...</td>\n",
       "      <td>1</td>\n",
       "    </tr>\n",
       "    <tr>\n",
       "      <th>56</th>\n",
       "      <td>[disaster, recovery, plan]</td>\n",
       "      <td>[tensor(-0.2216), tensor(0.5143), tensor(0.189...</td>\n",
       "      <td>1</td>\n",
       "    </tr>\n",
       "    <tr>\n",
       "      <th>59</th>\n",
       "      <td>[lack, organizational, security, policy, guide...</td>\n",
       "      <td>[tensor(-0.1334), tensor(-0.3310), tensor(0.27...</td>\n",
       "      <td>1</td>\n",
       "    </tr>\n",
       "    <tr>\n",
       "      <th>62</th>\n",
       "      <td>[infrastructure, vulnerability, management, im...</td>\n",
       "      <td>[tensor(-0.3143), tensor(0.1142), tensor(0.118...</td>\n",
       "      <td>1</td>\n",
       "    </tr>\n",
       "    <tr>\n",
       "      <th>71</th>\n",
       "      <td>[pentest, remediation, plan]</td>\n",
       "      <td>[tensor(-0.2424), tensor(0.3590), tensor(-0.28...</td>\n",
       "      <td>1</td>\n",
       "    </tr>\n",
       "    <tr>\n",
       "      <th>81</th>\n",
       "      <td>[data, retention, disposal, policy, define, do...</td>\n",
       "      <td>[tensor(-0.1616), tensor(0.0957), tensor(0.272...</td>\n",
       "      <td>1</td>\n",
       "    </tr>\n",
       "    <tr>\n",
       "      <th>103</th>\n",
       "      <td>[sow, data, retention, disposal, policy, defin...</td>\n",
       "      <td>[tensor(-0.3514), tensor(0.0721), tensor(0.303...</td>\n",
       "      <td>1</td>\n",
       "    </tr>\n",
       "    <tr>\n",
       "      <th>108</th>\n",
       "      <td>[remediation, plan]</td>\n",
       "      <td>[tensor(-0.3636), tensor(0.5385), tensor(-0.43...</td>\n",
       "      <td>1</td>\n",
       "    </tr>\n",
       "    <tr>\n",
       "      <th>123</th>\n",
       "      <td>[general, question, risk, assessment, policy, ...</td>\n",
       "      <td>[tensor(-0.3498), tensor(0.0474), tensor(0.363...</td>\n",
       "      <td>1</td>\n",
       "    </tr>\n",
       "    <tr>\n",
       "      <th>132</th>\n",
       "      <td>[data, retention, disposal, policy, define, do...</td>\n",
       "      <td>[tensor(-0.1616), tensor(0.0957), tensor(0.272...</td>\n",
       "      <td>1</td>\n",
       "    </tr>\n",
       "  </tbody>\n",
       "</table>\n",
       "</div>"
      ],
      "text/plain": [
       "                                               finding  \\\n",
       "7                 [disaster, recovery, plan, complete]   \n",
       "17   [conduct, provide, annual, risk, assessment, r...   \n",
       "33   [incident, response, policy, procedure, formal...   \n",
       "40   [lack, document, organizational, security, pol...   \n",
       "49                                      [sdlc, policy]   \n",
       "56                          [disaster, recovery, plan]   \n",
       "59   [lack, organizational, security, policy, guide...   \n",
       "62   [infrastructure, vulnerability, management, im...   \n",
       "71                        [pentest, remediation, plan]   \n",
       "81   [data, retention, disposal, policy, define, do...   \n",
       "103  [sow, data, retention, disposal, policy, defin...   \n",
       "108                                [remediation, plan]   \n",
       "123  [general, question, risk, assessment, policy, ...   \n",
       "132  [data, retention, disposal, policy, define, do...   \n",
       "\n",
       "                                             embedding  cluster_labels  \n",
       "7    [tensor(-0.2242), tensor(0.4222), tensor(0.209...               1  \n",
       "17   [tensor(-0.3199), tensor(0.0483), tensor(0.169...               1  \n",
       "33   [tensor(-0.1303), tensor(-0.3109), tensor(0.05...               1  \n",
       "40   [tensor(-0.1566), tensor(-0.2919), tensor(0.29...               1  \n",
       "49   [tensor(0.1181), tensor(-0.1579), tensor(0.019...               1  \n",
       "56   [tensor(-0.2216), tensor(0.5143), tensor(0.189...               1  \n",
       "59   [tensor(-0.1334), tensor(-0.3310), tensor(0.27...               1  \n",
       "62   [tensor(-0.3143), tensor(0.1142), tensor(0.118...               1  \n",
       "71   [tensor(-0.2424), tensor(0.3590), tensor(-0.28...               1  \n",
       "81   [tensor(-0.1616), tensor(0.0957), tensor(0.272...               1  \n",
       "103  [tensor(-0.3514), tensor(0.0721), tensor(0.303...               1  \n",
       "108  [tensor(-0.3636), tensor(0.5385), tensor(-0.43...               1  \n",
       "123  [tensor(-0.3498), tensor(0.0474), tensor(0.363...               1  \n",
       "132  [tensor(-0.1616), tensor(0.0957), tensor(0.272...               1  "
      ]
     },
     "execution_count": 22,
     "metadata": {},
     "output_type": "execute_result"
    }
   ],
   "source": [
    "# view all samples under cluster 1\n",
    "df[df['cluster_labels'] == 1]"
   ]
  },
  {
   "cell_type": "code",
   "execution_count": 23,
   "metadata": {},
   "outputs": [
    {
     "data": {
      "text/plain": [
       "PCA(n_components=3)"
      ]
     },
     "execution_count": 23,
     "metadata": {},
     "output_type": "execute_result"
    },
    {
     "name": "stdout",
     "output_type": "stream",
     "text": [
      "(138, 3)\n"
     ]
    }
   ],
   "source": [
    "# Use PCA to remove co-linear feature and decrease feature redundancy\n",
    "# Checks feature space and reduce dimension but keeps the information of all data \n",
    "from sklearn.decomposition import PCA\n",
    "pca = PCA(n_components=3)\n",
    "pca.fit(X)\n",
    "transformed = pca.transform(X)\n",
    "print(transformed.shape)"
   ]
  },
  {
   "cell_type": "code",
   "execution_count": 24,
   "metadata": {},
   "outputs": [],
   "source": [
    "# Build Kmeans model using transformed data\n",
    "#kmeans = KMeans(init='k-means++', n_clusters = 6, random_state = 0).fit(transformed)\n",
    "\n",
    "# obtain labels\n",
    "#df['pca_cluster'] = kmeans.labels_\n",
    "\n",
    "# view groups\n",
    "#df.groupby(['pca_cluster']).count()\n",
    "\n",
    "# assign to column\n",
    "#df[df['pca_cluster'] == 1]"
   ]
  },
  {
   "cell_type": "markdown",
   "metadata": {},
   "source": [
    "PCA Transformed model provides a better spread and therefore, cluster will be better identified without too much overlap of data"
   ]
  },
  {
   "cell_type": "code",
   "execution_count": 25,
   "metadata": {},
   "outputs": [
    {
     "data": {
      "image/png": "[encoded data removed]",
      "text/plain": [
       "<Figure size 864x432 with 2 Axes>"
      ]
     },
     "metadata": {
      "needs_background": "light"
     },
     "output_type": "display_data"
    }
   ],
   "source": [
    "# compare data plots for cluster with and without pca transformation\n",
    "f, (ax1, ax2) = plt.subplots(1, 2, figsize=(12, 6), sharey=True)\n",
    "ax1.scatter(X[:,0], X[:,1], s=20)\n",
    "ax1.set_title('Original Data')\n",
    "ax2.scatter(transformed[:,0], transformed[:,1], s=20)\n",
    "ax2.set_title('PCA Transformed');"
   ]
  },
  {
   "cell_type": "markdown",
   "metadata": {},
   "source": [
    "Finding Optimal Cluster Centers using Expectation-Maximization algorithm. For a better undrestanding, refer to Python Data Science Handbook found [here](https://jakevdp.github.io/PythonDataScienceHandbook/05.11-k-means.html)."
   ]
  },
  {
   "cell_type": "code",
   "execution_count": 26,
   "metadata": {},
   "outputs": [
    {
     "data": {
      "image/png": "[encoded data removed]",
      "text/plain": [
       "<Figure size 864x576 with 1 Axes>"
      ]
     },
     "metadata": {
      "needs_background": "light"
     },
     "output_type": "display_data"
    }
   ],
   "source": [
    "from sklearn.metrics import pairwise_distances_argmin\n",
    "\n",
    "def find_clusters(X, n_clusters, rseed=2):\n",
    "    # 1. Randomly choose clusters\n",
    "    rng = np.random.RandomState(rseed)\n",
    "    i = rng.permutation(X.shape[0])[:n_clusters]\n",
    "    centers = X[i]\n",
    "    \n",
    "    while True:\n",
    "        # 2a. Assign labels based on closest center\n",
    "        labels = pairwise_distances_argmin(X, centers)\n",
    "        \n",
    "        # 2b. Find new centers from means of points\n",
    "        new_centers = np.array([X[labels == i].mean(0)\n",
    "                                for i in range(n_clusters)])\n",
    "        \n",
    "        # 2c. Check for convergence\n",
    "        if np.all(centers == new_centers):\n",
    "            break\n",
    "        centers = new_centers\n",
    "    \n",
    "    return centers, labels\n",
    "\n",
    "centers, labels = find_clusters(transformed, 6)\n",
    "\n",
    "plt.figure(figsize=(12, 8))\n",
    "plt.scatter(transformed[labels==0, 0], transformed[labels==0, 1], c='red', s=20, label ='Cluster 1')\n",
    "plt.scatter(transformed[labels==1, 0], transformed[labels==1, 1], c='royalblue', s=20, label ='Cluster 2')\n",
    "plt.scatter(transformed[labels==2, 0], transformed[labels==2, 1], c='seagreen', s=20, label ='Cluster 3')\n",
    "plt.scatter(transformed[labels==3, 0], transformed[labels==3, 1], c='darkorange', s=20, label ='Cluster 4')\n",
    "plt.scatter(transformed[labels==4, 0], transformed[labels==4, 1], c='yellow', s=20, label ='Cluster 5')\n",
    "plt.scatter(transformed[labels==5, 0], transformed[labels==5, 1], c='purple', s=20, label ='Cluster 6')\n",
    "plt.legend();\n",
    "\n",
    "#centers = kmeans.cluster_centers_\n",
    "#plt.scatter(centers[:, 0], centers[:, 1], marker='X', c='black', s=80, alpha=0.6);"
   ]
  },
  {
   "cell_type": "code",
   "execution_count": 27,
   "metadata": {},
   "outputs": [
    {
     "data": {
      "text/html": [
       "<div>\n",
       "<style scoped>\n",
       "    .dataframe tbody tr th:only-of-type {\n",
       "        vertical-align: middle;\n",
       "    }\n",
       "\n",
       "    .dataframe tbody tr th {\n",
       "        vertical-align: top;\n",
       "    }\n",
       "\n",
       "    .dataframe thead th {\n",
       "        text-align: right;\n",
       "    }\n",
       "</style>\n",
       "<table border=\"1\" class=\"dataframe\">\n",
       "  <thead>\n",
       "    <tr style=\"text-align: right;\">\n",
       "      <th></th>\n",
       "      <th>finding</th>\n",
       "      <th>embedding</th>\n",
       "      <th>cluster_labels</th>\n",
       "    </tr>\n",
       "    <tr>\n",
       "      <th>pca_cluster</th>\n",
       "      <th></th>\n",
       "      <th></th>\n",
       "      <th></th>\n",
       "    </tr>\n",
       "  </thead>\n",
       "  <tbody>\n",
       "    <tr>\n",
       "      <th>0</th>\n",
       "      <td>53</td>\n",
       "      <td>53</td>\n",
       "      <td>53</td>\n",
       "    </tr>\n",
       "    <tr>\n",
       "      <th>1</th>\n",
       "      <td>6</td>\n",
       "      <td>6</td>\n",
       "      <td>6</td>\n",
       "    </tr>\n",
       "    <tr>\n",
       "      <th>2</th>\n",
       "      <td>15</td>\n",
       "      <td>15</td>\n",
       "      <td>15</td>\n",
       "    </tr>\n",
       "    <tr>\n",
       "      <th>3</th>\n",
       "      <td>18</td>\n",
       "      <td>18</td>\n",
       "      <td>18</td>\n",
       "    </tr>\n",
       "    <tr>\n",
       "      <th>4</th>\n",
       "      <td>21</td>\n",
       "      <td>21</td>\n",
       "      <td>21</td>\n",
       "    </tr>\n",
       "    <tr>\n",
       "      <th>5</th>\n",
       "      <td>25</td>\n",
       "      <td>25</td>\n",
       "      <td>25</td>\n",
       "    </tr>\n",
       "  </tbody>\n",
       "</table>\n",
       "</div>"
      ],
      "text/plain": [
       "             finding  embedding  cluster_labels\n",
       "pca_cluster                                    \n",
       "0                 53         53              53\n",
       "1                  6          6               6\n",
       "2                 15         15              15\n",
       "3                 18         18              18\n",
       "4                 21         21              21\n",
       "5                 25         25              25"
      ]
     },
     "execution_count": 27,
     "metadata": {},
     "output_type": "execute_result"
    }
   ],
   "source": [
    "# add labels to dataframe and review groups\n",
    "df['pca_cluster'] = labels\n",
    "df.groupby(['pca_cluster']).count()"
   ]
  },
  {
   "cell_type": "markdown",
   "metadata": {},
   "source": [
    "### 3D Plot\n",
    "This plot helps identifying data overlap, you can visually see the extent of cluster with overlaping data"
   ]
  },
  {
   "cell_type": "code",
   "execution_count": 28,
   "metadata": {},
   "outputs": [
    {
     "ename": "AttributeError",
     "evalue": "'DataFrame' object has no attribute 'supplier'",
     "output_type": "error",
     "traceback": [
      "\u001b[1;31m---------------------------------------------------------------------------\u001b[0m",
      "\u001b[1;31mAttributeError\u001b[0m                            Traceback (most recent call last)",
      "\u001b[1;32m<ipython-input-28-5d5c0f2d3607>\u001b[0m in \u001b[0;36m<module>\u001b[1;34m\u001b[0m\n\u001b[0;32m      5\u001b[0m \u001b[1;33m\u001b[0m\u001b[0m\n\u001b[0;32m      6\u001b[0m \u001b[0mcluster1\u001b[0m\u001b[1;33m=\u001b[0m \u001b[0mtransformed\u001b[0m\u001b[1;33m[\u001b[0m\u001b[0mlabels\u001b[0m\u001b[1;33m==\u001b[0m\u001b[1;36m0\u001b[0m\u001b[1;33m]\u001b[0m\u001b[1;33m\u001b[0m\u001b[1;33m\u001b[0m\u001b[0m\n\u001b[1;32m----> 7\u001b[1;33m \u001b[0msupplier1\u001b[0m \u001b[1;33m=\u001b[0m \u001b[0mdf\u001b[0m\u001b[1;33m[\u001b[0m\u001b[0mlabels\u001b[0m\u001b[1;33m==\u001b[0m\u001b[1;36m0\u001b[0m\u001b[1;33m]\u001b[0m\u001b[1;33m.\u001b[0m\u001b[0msupplier\u001b[0m\u001b[1;33m.\u001b[0m\u001b[0mto_numpy\u001b[0m\u001b[1;33m(\u001b[0m\u001b[1;33m)\u001b[0m\u001b[1;33m\u001b[0m\u001b[1;33m\u001b[0m\u001b[0m\n\u001b[0m\u001b[0;32m      8\u001b[0m \u001b[1;33m\u001b[0m\u001b[0m\n\u001b[0;32m      9\u001b[0m \u001b[0mcluster2\u001b[0m\u001b[1;33m=\u001b[0m \u001b[0mtransformed\u001b[0m\u001b[1;33m[\u001b[0m\u001b[0mlabels\u001b[0m\u001b[1;33m==\u001b[0m\u001b[1;36m1\u001b[0m\u001b[1;33m]\u001b[0m\u001b[1;33m\u001b[0m\u001b[1;33m\u001b[0m\u001b[0m\n",
      "\u001b[1;32m~\\anaconda3\\lib\\site-packages\\pandas\\core\\generic.py\u001b[0m in \u001b[0;36m__getattr__\u001b[1;34m(self, name)\u001b[0m\n\u001b[0;32m   5458\u001b[0m             \u001b[1;32mif\u001b[0m \u001b[0mself\u001b[0m\u001b[1;33m.\u001b[0m\u001b[0m_info_axis\u001b[0m\u001b[1;33m.\u001b[0m\u001b[0m_can_hold_identifiers_and_holds_name\u001b[0m\u001b[1;33m(\u001b[0m\u001b[0mname\u001b[0m\u001b[1;33m)\u001b[0m\u001b[1;33m:\u001b[0m\u001b[1;33m\u001b[0m\u001b[1;33m\u001b[0m\u001b[0m\n\u001b[0;32m   5459\u001b[0m                 \u001b[1;32mreturn\u001b[0m \u001b[0mself\u001b[0m\u001b[1;33m[\u001b[0m\u001b[0mname\u001b[0m\u001b[1;33m]\u001b[0m\u001b[1;33m\u001b[0m\u001b[1;33m\u001b[0m\u001b[0m\n\u001b[1;32m-> 5460\u001b[1;33m             \u001b[1;32mreturn\u001b[0m \u001b[0mobject\u001b[0m\u001b[1;33m.\u001b[0m\u001b[0m__getattribute__\u001b[0m\u001b[1;33m(\u001b[0m\u001b[0mself\u001b[0m\u001b[1;33m,\u001b[0m \u001b[0mname\u001b[0m\u001b[1;33m)\u001b[0m\u001b[1;33m\u001b[0m\u001b[1;33m\u001b[0m\u001b[0m\n\u001b[0m\u001b[0;32m   5461\u001b[0m \u001b[1;33m\u001b[0m\u001b[0m\n\u001b[0;32m   5462\u001b[0m     \u001b[1;32mdef\u001b[0m \u001b[0m__setattr__\u001b[0m\u001b[1;33m(\u001b[0m\u001b[0mself\u001b[0m\u001b[1;33m,\u001b[0m \u001b[0mname\u001b[0m\u001b[1;33m:\u001b[0m \u001b[0mstr\u001b[0m\u001b[1;33m,\u001b[0m \u001b[0mvalue\u001b[0m\u001b[1;33m)\u001b[0m \u001b[1;33m->\u001b[0m \u001b[1;32mNone\u001b[0m\u001b[1;33m:\u001b[0m\u001b[1;33m\u001b[0m\u001b[1;33m\u001b[0m\u001b[0m\n",
      "\u001b[1;31mAttributeError\u001b[0m: 'DataFrame' object has no attribute 'supplier'"
     ]
    }
   ],
   "source": [
    "import plotly\n",
    "import plotly.graph_objs as go\n",
    "\n",
    "# Visualize cluster shapes in 3d.\n",
    "\n",
    "cluster1= transformed[labels==0]\n",
    "supplier1 = df[labels==0].supplier.to_numpy()\n",
    "\n",
    "cluster2= transformed[labels==1]\n",
    "cluster3= transformed[labels==2]\n",
    "cluster4= transformed[labels==3]\n",
    "cluster5= transformed[labels==4]\n",
    "cluster6= transformed[labels==5]\n",
    "\n",
    "scatter1 = dict(\n",
    "    mode = \"markers\",\n",
    "    name = \"Cluster 1\",\n",
    "    type = \"scatter3d\",    \n",
    "    x = cluster1[:,0], y = cluster1[:,1], z = cluster1[:,2],\n",
    "    marker = dict( size=3, color='red'),\n",
    ")\n",
    "scatter2 = dict(\n",
    "    mode = \"markers\",\n",
    "    name = \"Cluster 2\",\n",
    "    type = \"scatter3d\",    \n",
    "    x = cluster2[:,0], y = cluster2[:,1], z = cluster2[:,2],\n",
    "    marker = dict( size=3, color='royalblue')\n",
    ")\n",
    "scatter3 = dict(\n",
    "    mode = \"markers\",\n",
    "    name = \"Cluster 3\",\n",
    "    type = \"scatter3d\",    \n",
    "    x = cluster3[:,0], y = cluster3[:,1], z = cluster3[:,2],\n",
    "    marker = dict( size=3, color='seagreen')\n",
    ")\n",
    "scatter4 = dict(\n",
    "    mode = \"markers\",\n",
    "    name = \"Cluster 4\",\n",
    "    type = \"scatter3d\",    \n",
    "    x = cluster4[:,0], y = cluster4[:,1], z = cluster4[:,2],\n",
    "    marker = dict( size=3, color='darkorange')\n",
    ")\n",
    "scatter5 = dict(\n",
    "    mode = \"markers\",\n",
    "    name = \"Cluster 5\",\n",
    "    type = \"scatter3d\",    \n",
    "    x = cluster5[:,0], y = cluster5[:,1], z = cluster5[:,2],\n",
    "    marker = dict( size=3, color='yellow')\n",
    ")\n",
    "scatter6 = dict(\n",
    "    mode = \"markers\",\n",
    "    name = \"Cluster 6\",\n",
    "    type = \"scatter3d\",    \n",
    "    x = cluster6[:,0], y = cluster6[:,1], z = cluster6[:,2],\n",
    "    marker = dict( size=3, color='purple')\n",
    ")\n",
    "cluster1 = dict(\n",
    "    alphahull = 5,\n",
    "    name = \"Cluster 1\",\n",
    "    opacity = .1,\n",
    "    type = \"mesh3d\",    \n",
    "    x = cluster1[:,0], y = cluster1[:,1], z = cluster1[:,2],\n",
    "    color='red', showscale = True\n",
    ")\n",
    "cluster2 = dict(\n",
    "    alphahull = 5,\n",
    "    name = \"Cluster 2\",\n",
    "    opacity = .1,\n",
    "    type = \"mesh3d\",    \n",
    "    x = cluster2[:,0], y = cluster2[:,1], z = cluster2[:,2],\n",
    "    color='royalblue', showscale = True\n",
    ")\n",
    "cluster3 = dict(\n",
    "    alphahull = 5,\n",
    "    name = \"Cluster 3\",\n",
    "    opacity = .1,\n",
    "    type = \"mesh3d\",    \n",
    "    x = cluster3[:,0], y = cluster3[:,1], z = cluster3[:,2],\n",
    "    color='seagreen', showscale = True\n",
    ")\n",
    "cluster4 = dict(\n",
    "    alphahull = 5,\n",
    "    name = \"Cluster 4\",\n",
    "    opacity = .1,\n",
    "    type = \"mesh3d\",    \n",
    "    x = cluster4[:,0], y = cluster4[:,1], z = cluster4[:,2],\n",
    "    color='darkorange', showscale = True\n",
    ")\n",
    "cluster5 = dict(\n",
    "    alphahull = 5,\n",
    "    name = \"Cluster 5\",\n",
    "    opacity = .1,\n",
    "    type = \"mesh3d\",    \n",
    "    x = cluster5[:,0], y = cluster5[:,1], z = cluster5[:,2],\n",
    "    color='yellow', showscale = True\n",
    ")\n",
    "cluster6 = dict(\n",
    "    alphahull = 5,\n",
    "    name = \"Cluster 6\",\n",
    "    opacity = .1,\n",
    "    type = \"mesh3d\",    \n",
    "    x = cluster6[:,0], y = cluster6[:,1], z = cluster6[:,2],\n",
    "    color='purple', showscale = True\n",
    ")\n",
    "layout = dict(\n",
    "    title = 'Interactive 3D Cluster',\n",
    "    width=1000,\n",
    "    height=1000,\n",
    "    scene = dict(\n",
    "        xaxis = dict( zeroline=True ),\n",
    "        yaxis = dict( zeroline=True ),\n",
    "        zaxis = dict( zeroline=True ),\n",
    "    )\n",
    ")\n",
    "fig = dict(data=[scatter1, scatter2, scatter3, scatter4, scatter5, scatter6,\n",
    "                 cluster1, cluster2, cluster3, cluster4, cluster5, cluster6], layout=layout)\n",
    "# Use py.iplot() for IPython notebook\n",
    "plotly.offline.iplot(fig, filename='mesh3d_sample')"
   ]
  },
  {
   "cell_type": "markdown",
   "metadata": {},
   "source": [
    "### Visualizing Cluster data\n",
    "Lets do a frequency count of each cluster output, the plots will show frequency distribution, the goal is to identify themes within each cluster."
   ]
  },
  {
   "cell_type": "code",
   "execution_count": null,
   "metadata": {
    "scrolled": false
   },
   "outputs": [],
   "source": [
    "# cluster list\n",
    "clust = list(range(0, 6))\n",
    "\n",
    "for i in clust:\n",
    "    # first cluster\n",
    "    cluster1 = df[df['pca_cluster'] == i]\n",
    "\n",
    "    findings_token = token_list(cluster1['finding'])\n",
    "    print(findings_token[0:10])\n",
    "\n",
    "    #Create your bigrams\n",
    "    bigrams = nltk.bigrams(findings_token)\n",
    "\n",
    "    fdist = nltk.FreqDist(bigrams)\n",
    "\n",
    "    # counting frequency of words with counter\n",
    "    fdist.most_common(10) #most common\n",
    "    fdist_df1 = pd.DataFrame.from_records(fdist.most_common(10),\n",
    "                                            columns = ['token', 'count'])\n",
    "\n",
    "    # bar view of tokens\n",
    "    fdist_df1['token'] = fdist_df1['token'].apply(str)\n",
    "    fdist_df1.plot(kind = 'barh', x = 'token', figsize = (12, 8))\\\n",
    "                        .invert_yaxis()\n",
    "    plt.show();"
   ]
  },
  {
   "cell_type": "markdown",
   "metadata": {},
   "source": [
    "#### VIsualizing Cluster Frequency Distribution without PCA Transformation."
   ]
  },
  {
   "cell_type": "code",
   "execution_count": null,
   "metadata": {
    "scrolled": false
   },
   "outputs": [],
   "source": [
    "# cluster list\n",
    "clust = list(range(0, 6))\n",
    "\n",
    "for i in clust:\n",
    "    # first cluster\n",
    "    cluster1 = df[df['cluster_labels'] == i]\n",
    "\n",
    "    findings_token = token_list(cluster1['finding'])\n",
    "    print(findings_token[0:10])\n",
    "\n",
    "    #Create your bigrams\n",
    "    bigrams = nltk.bigrams(findings_token)\n",
    "\n",
    "    fdist = nltk.FreqDist(bigrams)\n",
    "\n",
    "    # counting frequency of words with counter\n",
    "    fdist.most_common(10) #most common\n",
    "    fdist_df1 = pd.DataFrame.from_records(fdist.most_common(10),\n",
    "                                            columns = ['token', 'count'])\n",
    "\n",
    "    # bar view of tokens\n",
    "    fdist_df1['token'] = fdist_df1['token'].apply(str)\n",
    "    fdist_df1.plot(kind = 'barh', x = 'token', figsize = (12, 8))\\\n",
    "                        .invert_yaxis()\n",
    "    plt.show();"
   ]
  }
 ],
 "metadata": {
  "kernelspec": {
   "display_name": "Python 3",
   "language": "python",
   "name": "python3"
  },
  "language_info": {
   "codemirror_mode": {
    "name": "ipython",
    "version": 3
   },
   "file_extension": ".py",
   "mimetype": "text/x-python",
   "name": "python",
   "nbconvert_exporter": "python",
   "pygments_lexer": "ipython3",
   "version": "3.8.5"
  }
 },
 "nbformat": 4,
 "nbformat_minor": 4
}
